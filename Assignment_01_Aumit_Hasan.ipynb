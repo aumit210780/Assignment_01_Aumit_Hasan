{
  "cells": [
    {
      "cell_type": "markdown",
      "metadata": {
        "id": "view-in-github",
        "colab_type": "text"
      },
      "source": [
        "<a href=\"https://colab.research.google.com/github/aumit210780/Assignment_01_Aumit_Hasan/blob/main/Assignment_01_Aumit_Hasan.ipynb\" target=\"_parent\"><img src=\"https://colab.research.google.com/assets/colab-badge.svg\" alt=\"Open In Colab\"/></a>"
      ]
    },
    {
      "cell_type": "markdown",
      "source": [
        "###Name: Aumit Hasan\n",
        "###ID: 20229034\n",
        "###Batch: 9th"
      ],
      "metadata": {
        "id": "eldadaz5Hu1-"
      }
    },
    {
      "cell_type": "markdown",
      "metadata": {
        "id": "vkUyve8YHivB"
      },
      "source": [
        "###Importing Necessary Libraries"
      ]
    },
    {
      "cell_type": "code",
      "execution_count": 1,
      "metadata": {
        "id": "xe2GioSDEO0n"
      },
      "outputs": [],
      "source": [
        "import numpy as np\n",
        "import pandas as pd"
      ]
    },
    {
      "cell_type": "markdown",
      "metadata": {
        "id": "LR4RYJQiv_T6"
      },
      "source": [
        "###Problem_01: Write a Python program to count the number of characters (character frequency) in a string"
      ]
    },
    {
      "cell_type": "markdown",
      "metadata": {
        "id": "OKp_FggtH30e"
      },
      "source": [
        "###Problem_01: Solution"
      ]
    },
    {
      "cell_type": "code",
      "execution_count": 2,
      "metadata": {
        "colab": {
          "base_uri": "https://localhost:8080/"
        },
        "id": "Kjhu6Hb6IUy_",
        "outputId": "bdbbf12e-0f1d-40a3-8186-e220de8b1110"
      },
      "outputs": [
        {
          "output_type": "stream",
          "name": "stdout",
          "text": [
            "{'g': 2, 'o': 3, 'l': 1, 'e': 1, '.': 1, 'c': 1, 'm': 1}\n"
          ]
        }
      ],
      "source": [
        "def characters_count(str):\n",
        "  #empty dictionary for storing character frequency\n",
        "  count_characters = {}\n",
        "\n",
        "  #frequency counting of each character\n",
        "  for i in str:\n",
        "    #if character already exist in dictionary, just increment it by 1\n",
        "    if i in count_characters:\n",
        "      count_characters[i] += 1\n",
        "    #if its new, add a count of 1\n",
        "    else:\n",
        "      count_characters[i] = 1\n",
        "  \n",
        "  return count_characters\n",
        "\n",
        "\n",
        "sample_string = \"google.com\"\n",
        "count_char = characters_count(sample_string)\n",
        "print(count_char)"
      ]
    },
    {
      "cell_type": "markdown",
      "metadata": {
        "id": "4D-N58HYwI8C"
      },
      "source": [
        "###Problem_02: Write a Python program to check if a given key already exists in a dictionary."
      ]
    },
    {
      "cell_type": "markdown",
      "metadata": {
        "id": "v3_ND0vhOIt2"
      },
      "source": [
        "###Problem_02: Solution"
      ]
    },
    {
      "cell_type": "code",
      "execution_count": 3,
      "metadata": {
        "colab": {
          "base_uri": "https://localhost:8080/"
        },
        "id": "h1KV_oaFKIQ4",
        "outputId": "9cdf42e7-78ad-4a4b-fbd9-21b3bc8893ae"
      },
      "outputs": [
        {
          "output_type": "stream",
          "name": "stdout",
          "text": [
            "The given key ' best ' is already exists in the dictionary\n"
          ]
        }
      ],
      "source": [
        "#dictionary that keys need to be checked\n",
        "dict_1 = {\"good\": 5, \"better\": 3, \"best\": 1, \"worst\": 7}\n",
        "\n",
        "#checking key\n",
        "k = \"best\"\n",
        "if k in dict_1:\n",
        "  print(\"The given key '\",k,\"' is already exists in the dictionary\")\n",
        "else:\n",
        "  print(\"The given key '\",k,\"' does not exist in the dictionary\")\n",
        "\n"
      ]
    },
    {
      "cell_type": "markdown",
      "metadata": {
        "id": "CApRdDoRwRPg"
      },
      "source": [
        "###Problem_03: Write a Python program that accepts a sequence of comma-separated numbers from the user and generates a list and a tuple of those numbers."
      ]
    },
    {
      "cell_type": "markdown",
      "metadata": {
        "id": "OlSjThBESwTl"
      },
      "source": [
        "###Problem_03: Solution"
      ]
    },
    {
      "cell_type": "code",
      "execution_count": 4,
      "metadata": {
        "colab": {
          "base_uri": "https://localhost:8080/"
        },
        "id": "gTIHzsS9Szck",
        "outputId": "f932111e-398c-48e1-ac0f-a90ffaf8946f"
      },
      "outputs": [
        {
          "output_type": "stream",
          "name": "stdout",
          "text": [
            "Give a sequence of comma-separated numbers as input: 1, 5, 7, 23\n",
            "List: [1, 5, 7, 23]\n",
            "Tuple: (1, 5, 7, 23)\n"
          ]
        }
      ],
      "source": [
        "n = input(\"Give a sequence of comma-separated numbers as input: \")\n",
        "\n",
        "#convert each item to an integer and make it a list\n",
        "list1 = [int(i) for i in n.split(',')]\n",
        "\n",
        "#convert the list into tuple\n",
        "tuple1 = tuple(list1)\n",
        "\n",
        "#printing output\n",
        "print(\"List:\", list1)\n",
        "print(\"Tuple:\", tuple1)\n",
        "\n"
      ]
    },
    {
      "cell_type": "markdown",
      "metadata": {
        "id": "lm5QC3SdwaMg"
      },
      "source": [
        "###Problem_04: Write a Python program that accepts a sequence of comma-separated numbers from the user and generates a list and a tuple of those numbers."
      ]
    },
    {
      "cell_type": "markdown",
      "metadata": {
        "id": "umLAUClPWLpk"
      },
      "source": [
        "###Problem_04: Solution"
      ]
    },
    {
      "cell_type": "code",
      "execution_count": 5,
      "metadata": {
        "colab": {
          "base_uri": "https://localhost:8080/"
        },
        "id": "CxdkaLGAWQOX",
        "outputId": "68ec7fe2-bf15-4d4c-aa10-daed5b884de6"
      },
      "outputs": [
        {
          "output_type": "stream",
          "name": "stdout",
          "text": [
            "There are 9 days between 2014-07-02 and 2014-07-11.\n"
          ]
        }
      ],
      "source": [
        "from datetime import date\n",
        "\n",
        "def days_between_dates(date1, date2):\n",
        "    #the number of days between two dates.\n",
        "    diff = date2 - date1\n",
        "    return diff.days\n",
        "\n",
        "#Two dates:\n",
        "date1 = date(2014, 7, 2)\n",
        "date2 = date(2014, 7, 11)\n",
        "days = days_between_dates(date1, date2)\n",
        "print(f\"There are {days} days between {date1} and {date2}.\")\n"
      ]
    },
    {
      "cell_type": "markdown",
      "metadata": {
        "id": "3R0k5x_RwipB"
      },
      "source": [
        "###Problem_05: Write a Python program to solve (x + y) * (x + y)."
      ]
    },
    {
      "cell_type": "markdown",
      "metadata": {
        "id": "6MEd8CaJXfGk"
      },
      "source": [
        "###Problem_05: Solution"
      ]
    },
    {
      "cell_type": "code",
      "execution_count": 6,
      "metadata": {
        "colab": {
          "base_uri": "https://localhost:8080/"
        },
        "id": "PXPtZzPlXg9c",
        "outputId": "040b9dcc-890c-4fe5-bc9d-036f6f8935a7"
      },
      "outputs": [
        {
          "output_type": "stream",
          "name": "stdout",
          "text": [
            "( 4 + 3 )^ 2) = 49\n"
          ]
        }
      ],
      "source": [
        "#assigning values to x and y\n",
        "x = 4\n",
        "y = 3\n",
        "\n",
        "# result of (x + y) * (x + y) is similar to (x + y) ** 2\n",
        "\n",
        "out = (x + y) ** 2\n",
        "print('(',x,'+',y,')^ 2)','=',out)"
      ]
    },
    {
      "cell_type": "markdown",
      "metadata": {
        "id": "hNE86iYYwo5Z"
      },
      "source": [
        "###Problem_06: Write a Python program to compute the future value of a specified principal amount, rate of interest, and number of years"
      ]
    },
    {
      "cell_type": "markdown",
      "metadata": {
        "id": "6ycM4RxwX8uL"
      },
      "source": [
        "###Problem_06: Solution"
      ]
    },
    {
      "cell_type": "code",
      "execution_count": 7,
      "metadata": {
        "colab": {
          "base_uri": "https://localhost:8080/"
        },
        "id": "abd2n-H3YBQD",
        "outputId": "7247d1d3-926f-4d12-b784-aea1d0620d00"
      },
      "outputs": [
        {
          "output_type": "stream",
          "name": "stdout",
          "text": [
            "Enter the principal amount: 10000\n",
            "Enter the interest rate (%): 3.5\n",
            "Enter the number of years: 7\n",
            "Future value: 12722.79\n"
          ]
        }
      ],
      "source": [
        "amt = float(input(\"Enter the principal amount: \"))\n",
        "interest = float(input(\"Enter the interest rate (%): \"))\n",
        "years = int(input(\"Enter the number of years: \"))\n",
        "\n",
        "interest_rate = interest / 100\n",
        "future_value = amt * ((1 + interest_rate) ** years)\n",
        "\n",
        "print(\"Future value:\", round(future_value, 2))\n"
      ]
    },
    {
      "cell_type": "markdown",
      "metadata": {
        "id": "Ahbx0XVhwv3C"
      },
      "source": [
        "###Problem_07: Write a Python program that removes duplicate elements from a given array of numbers so that each element appears only once and returns the new length of the array"
      ]
    },
    {
      "cell_type": "markdown",
      "metadata": {
        "id": "v6tQjX8ZZxE1"
      },
      "source": [
        "###Problem_07: Solution"
      ]
    },
    {
      "cell_type": "code",
      "execution_count": 8,
      "metadata": {
        "colab": {
          "base_uri": "https://localhost:8080/"
        },
        "id": "sOGL7riWOkLG",
        "outputId": "f8be3a60-a115-427b-e690-e5d229610b5a"
      },
      "outputs": [
        {
          "output_type": "stream",
          "name": "stdout",
          "text": [
            "The list of unique numbers: [0, 1, 2, 3, 4]\n",
            "length of the unique list : 5\n"
          ]
        }
      ],
      "source": [
        "dup_list = [0,0,1,1,2,2,3,3,4,4,4]\n",
        "\n",
        "# we know set() doesn't holds duplicate value, so we use set() here\n",
        "s = set(dup_list)\n",
        "unique_list = list(s)\n",
        "print(\"The list of unique numbers:\", unique_list)\n",
        "print(\"length of the unique list :\", len(unique_list))"
      ]
    },
    {
      "cell_type": "markdown",
      "metadata": {
        "id": "KubFPs3fw2jJ"
      },
      "source": [
        "###Problem_08: Write a Python program to sort (ascending and descending) a dictionary by key value."
      ]
    },
    {
      "cell_type": "markdown",
      "metadata": {
        "id": "NS_-oJRUbqsa"
      },
      "source": [
        "###Problem_08: Solution"
      ]
    },
    {
      "cell_type": "code",
      "execution_count": 9,
      "metadata": {
        "colab": {
          "base_uri": "https://localhost:8080/"
        },
        "id": "Ufumy2eNbs7T",
        "outputId": "5e422a95-61d3-4b20-d236-ea61273588aa"
      },
      "outputs": [
        {
          "output_type": "stream",
          "name": "stdout",
          "text": [
            "Ascending Order: {'b': 1, 'c': 2, 'd': 4, 'e': 5}\n",
            "Descending Order: {'e': 5, 'd': 4, 'c': 2, 'b': 1}\n"
          ]
        }
      ],
      "source": [
        "#dictionary needs to be sorted\n",
        "dict1 = {'e': 5, 'b': 1, 'c': 2, 'd': 4}\n",
        "\n",
        "# Sort in ascending order by key value\n",
        "sorted_dict1_ascending = dict(sorted(dict1.items()))\n",
        "\n",
        "# Sort in descending order by key value\n",
        "sorted_dict1_descending = dict(sorted(dict1.items(), reverse=True))\n",
        "\n",
        "\n",
        "print(\"Ascending Order:\", sorted_dict1_ascending)\n",
        "print(\"Descending Order:\", sorted_dict1_descending)\n"
      ]
    },
    {
      "cell_type": "markdown",
      "metadata": {
        "id": "WBm9TJgxw_FR"
      },
      "source": [
        "###Problem_09: Write a Python program to add key to a dictionary"
      ]
    },
    {
      "cell_type": "markdown",
      "metadata": {
        "id": "vlX3tJO_siP0"
      },
      "source": [
        "###Problem_09: Solution"
      ]
    },
    {
      "cell_type": "code",
      "execution_count": 10,
      "metadata": {
        "colab": {
          "base_uri": "https://localhost:8080/"
        },
        "id": "jcqCOgb1Wlgj",
        "outputId": "38cda9b1-b9d1-4a3a-a5b6-b56d68ba5aa4"
      },
      "outputs": [
        {
          "output_type": "stream",
          "name": "stdout",
          "text": [
            "Now new dictionary: {0: 10, 1: 20, 2: 30}\n"
          ]
        }
      ],
      "source": [
        "#defining sample_dictionary\n",
        "dict2 = {0: 10, 1: 20}\n",
        "\n",
        "#adding another key to dictionary\n",
        "dict2[2] = 30\n",
        "\n",
        "print(\"Now new dictionary:\", dict2)\n"
      ]
    },
    {
      "cell_type": "markdown",
      "metadata": {
        "id": "yL6i-ulixIF5"
      },
      "source": [
        "###Problem_10: Write a Pandas program to create and display a DataFrame from a specified dictionary data which has the index labels. \n"
      ]
    },
    {
      "cell_type": "markdown",
      "metadata": {
        "id": "2q3yoSA3tqIr"
      },
      "source": [
        "###Problem_10: Solution\n",
        "\n",
        "\n"
      ]
    },
    {
      "cell_type": "code",
      "execution_count": 11,
      "metadata": {
        "id": "B9nVfFIEttMj",
        "colab": {
          "base_uri": "https://localhost:8080/"
        },
        "outputId": "f0095c14-85d4-467d-e668-bca16c419c6e"
      },
      "outputs": [
        {
          "output_type": "stream",
          "name": "stdout",
          "text": [
            "     name  score  attempts qualify\n",
            "a    Arif   12.5         1     yes\n",
            "b    Asir    9.0         3      no\n",
            "c    Arik   16.5         2     yes\n",
            "d    Anis    NaN         3      no\n",
            "e    Anil    9.0         2      no\n",
            "f  Ashish   20.0         3     yes\n",
            "g   Anahi   14.5         1     yes\n",
            "h    Alia    NaN         1      no\n",
            "i   Alvin    8.0         2      no\n",
            "j    Asim   19.0         1     yes\n"
          ]
        }
      ],
      "source": [
        "exam_data = {'name': ['Arif', 'Asir', 'Arik', 'Anis', 'Anil', 'Ashish', 'Anahi', 'Alia', 'Alvin', 'Asim'],\n",
        "             'score': [12.5, 9, 16.5, np.nan, 9, 20, 14.5, np.nan, 8, 19],\n",
        "             'attempts': [1, 3, 2, 3, 2, 3, 1, 1, 2, 1],\n",
        "             'qualify': ['yes', 'no', 'yes', 'no', 'no', 'yes', 'yes', 'no', 'no', 'yes']}\n",
        "\n",
        "labels = ['a', 'b', 'c', 'd', 'e', 'f', 'g', 'h', 'i', 'j']\n",
        "\n",
        "#converting into DataFrame and adding index\n",
        "df = pd.DataFrame(exam_data, index=labels)\n",
        "\n",
        "# Finally the DataFrame\n",
        "print(df)\n"
      ]
    }
  ],
  "metadata": {
    "colab": {
      "provenance": [],
      "authorship_tag": "ABX9TyO/8aK9tdsR9U0SHeFzHrho",
      "include_colab_link": true
    },
    "kernelspec": {
      "display_name": "Python 3",
      "name": "python3"
    },
    "language_info": {
      "name": "python"
    }
  },
  "nbformat": 4,
  "nbformat_minor": 0
}